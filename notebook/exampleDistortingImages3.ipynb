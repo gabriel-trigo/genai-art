{
 "cells": [
  {
   "cell_type": "markdown",
   "metadata": {
    "id": "D6KF-irjF8Kf"
   },
   "source": [
    "# Import"
   ]
  },
  {
   "cell_type": "code",
   "execution_count": null,
   "metadata": {
    "id": "PCAHXtYfF8Kh",
    "outputId": "1a6c583e-31c9-4085-cbff-e826d4204da1",
    "scrolled": false
   },
   "outputs": [],
   "source": [
    "import os, time\n",
    "import itertools, imageio, pickle\n",
    "\n",
    "import tensorflow as tf\n",
    "import matplotlib.pyplot as plt\n",
    "\n",
    "import numpy as np\n",
    "from numpy import array\n",
    "\n",
    "print(tf.config.list_physical_devices('GPU'))\n",
    "print(tf.__version__)\n",
    "\n",
    "import matplotlib.gridspec as gridspec\n",
    "import scipy\n",
    "\n",
    "# Path to your PNG file\n",
    "file_path = 'G:/My Drive/CoursesColumbiaUniversity/DeepLearning/AIinART/Gabriele/Data_png/png_subset/102_0.png'\n",
    "\n",
    "# Read the image\n",
    "image_string = tf.io.read_file(file_path)\n",
    "\n",
    "# Decode the image\n",
    "image = tf.image.decode_png(image_string, channels=1)  # Adjust 'channels' if needed\n",
    "\n",
    "nSize = 512\n",
    "\n",
    "# Resize the image to 512x512\n",
    "image_resized = tf.image.resize(image, [nSize, nSize])\n",
    "\n",
    "image_resized2 = image_resized.numpy().reshape(nSize, nSize)\n",
    "\n",
    "plt.imshow(image_resized2, cmap='Greys')\n",
    "plt.show()\n"
   ]
  },
  {
   "cell_type": "code",
   "execution_count": null,
   "metadata": {
    "id": "cogmG23pF8Kj"
   },
   "outputs": [],
   "source": [
    "def sig(x):\n",
    "    return 1./(1. + np.exp(-x))"
   ]
  },
  {
   "cell_type": "code",
   "execution_count": null,
   "metadata": {
    "id": "KkNADHx5F8Kj"
   },
   "outputs": [],
   "source": [
    "w11 = np.array([-50,-25,-15,15,25,50])\n",
    "w12 = np.array([-50,-25,-15,15,25,50])\n",
    "w21 = np.array([-50,-25,-15,15,25,50])\n",
    "w22 = np.array([-50,-25,-15,15,25,50])\n",
    "b1 = np.array([-50,-25,-10,10,25,50])\n",
    "b2 = np.array([-50,-25,-10,10,25,50])\n",
    "m1 = len(w11)\n",
    "m2 = len(b1)"
   ]
  },
  {
   "cell_type": "code",
   "execution_count": null,
   "metadata": {
    "id": "GVhAI7qAF8Kj",
    "outputId": "1a5af0ca-4f4e-4824-9f85-39dd83ce54e9",
    "scrolled": false
   },
   "outputs": [],
   "source": [
    "import copy\n",
    "for i1 in np.arange(m2):\n",
    "    for i2 in np.arange(m2):\n",
    "        for j1 in np.arange(m1):\n",
    "            for j2 in np.arange(m1):\n",
    "                for j3 in np.arange(m1):\n",
    "                    for j4 in np.arange(m1):\n",
    "                        print(f\"w11={w11[j1]}, w12={w12[j3]}, w21={w21[j2]}, w22={w22[j4]}, b1={b1[i1]}, b2={b2[i2]}\")\n",
    "                        image_resized3 = copy.deepcopy(image_resized2)\n",
    "                        image_resized3 *= 0.0\n",
    "                        img_size = image_resized3.shape[0]\n",
    "\n",
    "                        for x in range(image_resized3.shape[0]):\n",
    "                            for y in range(img_size):\n",
    "\n",
    "                                x_hat = int(sig(w11[j1]*x/img_size + w21[j2]*y/img_size + b1[i1])*img_size)\n",
    "                                y_hat = int(sig(w12[j3]*x/img_size + w22[j4]*y/img_size + b2[i2])*img_size)\n",
    "                                image_resized3[x_hat][y_hat] += image_resized2[x][y]\n",
    "\n",
    "                        image_resized3 = np.minimum(image_resized3, 255.0)\n",
    "                        plt.imshow(image_resized3, cmap='Greys')\n",
    "                        plt.show()\n"
   ]
  },
  {
   "cell_type": "code",
   "execution_count": null,
   "metadata": {
    "id": "b0F7TQTpF8Kk",
    "outputId": "d17e8234-8889-453b-8c81-30cd74a39947"
   },
   "outputs": [],
   "source": [
    "y_hat"
   ]
  },
  {
   "cell_type": "code",
   "execution_count": null,
   "metadata": {
    "id": "dMXCj2J6F8Kk"
   },
   "outputs": [],
   "source": []
  }
 ],
 "metadata": {
  "colab": {
   "provenance": []
  },
  "kernelspec": {
   "display_name": "Python 3",
   "language": "python",
   "name": "python3"
  },
  "language_info": {
   "codemirror_mode": {
    "name": "ipython",
    "version": 3
   },
   "file_extension": ".py",
   "mimetype": "text/x-python",
   "name": "python",
   "nbconvert_exporter": "python",
   "pygments_lexer": "ipython3",
   "version": "3.7.4"
  }
 },
 "nbformat": 4,
 "nbformat_minor": 0
}
